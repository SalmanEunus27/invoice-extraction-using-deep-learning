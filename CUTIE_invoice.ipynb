{
  "cells": [
    {
      "cell_type": "code",
      "execution_count": null,
      "metadata": {
        "colab": {
          "base_uri": "https://localhost:8080/"
        },
        "id": "_3VezKeGFGZk",
        "outputId": "7bba8fb3-4e5f-4fe3-d320-57b7db3823c1"
      },
      "outputs": [
        {
          "output_type": "stream",
          "name": "stdout",
          "text": [
            "Collecting pytesseract\n",
            "  Downloading pytesseract-0.3.8.tar.gz (14 kB)\n",
            "Requirement already satisfied: Pillow in /usr/local/lib/python3.7/dist-packages (from pytesseract) (7.1.2)\n",
            "Building wheels for collected packages: pytesseract\n",
            "  Building wheel for pytesseract (setup.py) ... \u001b[?25l\u001b[?25hdone\n",
            "  Created wheel for pytesseract: filename=pytesseract-0.3.8-py2.py3-none-any.whl size=14070 sha256=e39c4eef74b04e5e4c7da20d307bb8a2514a0db88aed65d8526f8aa6453ec4dd\n",
            "  Stored in directory: /root/.cache/pip/wheels/a4/89/b9/3f11250225d0f90e5454fcc30fd1b7208db226850715aa9ace\n",
            "Successfully built pytesseract\n",
            "Installing collected packages: pytesseract\n",
            "Successfully installed pytesseract-0.3.8\n",
            "Reading package lists... Done\n",
            "Building dependency tree       \n",
            "Reading state information... Done\n",
            "The following additional packages will be installed:\n",
            "  tesseract-ocr-eng tesseract-ocr-osd\n",
            "The following NEW packages will be installed:\n",
            "  tesseract-ocr tesseract-ocr-eng tesseract-ocr-osd\n",
            "0 upgraded, 3 newly installed, 0 to remove and 37 not upgraded.\n",
            "Need to get 4,795 kB of archives.\n",
            "After this operation, 15.8 MB of additional disk space will be used.\n",
            "Get:1 http://archive.ubuntu.com/ubuntu bionic/universe amd64 tesseract-ocr-eng all 4.00~git24-0e00fe6-1.2 [1,588 kB]\n",
            "Get:2 http://archive.ubuntu.com/ubuntu bionic/universe amd64 tesseract-ocr-osd all 4.00~git24-0e00fe6-1.2 [2,989 kB]\n",
            "Get:3 http://archive.ubuntu.com/ubuntu bionic/universe amd64 tesseract-ocr amd64 4.00~git2288-10f4998a-2 [218 kB]\n",
            "Fetched 4,795 kB in 1s (5,453 kB/s)\n",
            "debconf: unable to initialize frontend: Dialog\n",
            "debconf: (No usable dialog-like program is installed, so the dialog based frontend cannot be used. at /usr/share/perl5/Debconf/FrontEnd/Dialog.pm line 76, <> line 3.)\n",
            "debconf: falling back to frontend: Readline\n",
            "debconf: unable to initialize frontend: Readline\n",
            "debconf: (This frontend requires a controlling tty.)\n",
            "debconf: falling back to frontend: Teletype\n",
            "dpkg-preconfigure: unable to re-open stdin: \n",
            "Selecting previously unselected package tesseract-ocr-eng.\n",
            "(Reading database ... 155229 files and directories currently installed.)\n",
            "Preparing to unpack .../tesseract-ocr-eng_4.00~git24-0e00fe6-1.2_all.deb ...\n",
            "Unpacking tesseract-ocr-eng (4.00~git24-0e00fe6-1.2) ...\n",
            "Selecting previously unselected package tesseract-ocr-osd.\n",
            "Preparing to unpack .../tesseract-ocr-osd_4.00~git24-0e00fe6-1.2_all.deb ...\n",
            "Unpacking tesseract-ocr-osd (4.00~git24-0e00fe6-1.2) ...\n",
            "Selecting previously unselected package tesseract-ocr.\n",
            "Preparing to unpack .../tesseract-ocr_4.00~git2288-10f4998a-2_amd64.deb ...\n",
            "Unpacking tesseract-ocr (4.00~git2288-10f4998a-2) ...\n",
            "Setting up tesseract-ocr-osd (4.00~git24-0e00fe6-1.2) ...\n",
            "Setting up tesseract-ocr-eng (4.00~git24-0e00fe6-1.2) ...\n",
            "Setting up tesseract-ocr (4.00~git2288-10f4998a-2) ...\n",
            "Processing triggers for man-db (2.8.3-2ubuntu0.1) ...\n"
          ]
        }
      ],
      "source": [
        "!pip install pytesseract\n",
        "!sudo apt install tesseract-ocr"
      ]
    },
    {
      "cell_type": "code",
      "execution_count": null,
      "metadata": {
        "colab": {
          "base_uri": "https://localhost:8080/"
        },
        "id": "GlvVVLiKnqSJ",
        "outputId": "d46251b5-80fc-4476-a47b-e3fdadc199d4"
      },
      "outputs": [
        {
          "output_type": "stream",
          "name": "stdout",
          "text": [
            "[nltk_data] Downloading package punkt to /root/nltk_data...\n",
            "[nltk_data]   Package punkt is already up-to-date!\n"
          ]
        },
        {
          "output_type": "execute_result",
          "data": {
            "text/plain": [
              "<torch._C.Generator at 0x7f067dfc8eb0>"
            ]
          },
          "metadata": {},
          "execution_count": 7
        }
      ],
      "source": [
        "import pandas as pd\n",
        "from PIL import Image\n",
        "from xml.etree import ElementTree\n",
        "import numpy as np\n",
        "import cv2\n",
        "from matplotlib.pyplot import imshow\n",
        "from matplotlib import cm\n",
        "\n",
        "import torch\n",
        "import torch.nn.functional as F\n",
        "import torch.nn as nn\n",
        "from torch import optim\n",
        "import torch.utils.data\n",
        "from torch.utils.tensorboard import SummaryWriter\n",
        "from torch.utils.data import DataLoader, random_split\n",
        "from torchvision import transforms\n",
        "\n",
        "\n",
        "# import libraries\n",
        "import os\n",
        "import matplotlib.pyplot as plt\n",
        "from google.colab.patches import cv2_imshow\n",
        "\n",
        "try:\n",
        " from PIL import Image\n",
        "except ImportError:\n",
        " import Image\n",
        "import cv2\n",
        "import pytesseract\n",
        "import numpy as np\n",
        "from pytesseract import Output\n",
        "\n",
        "pytesseract.pytesseract.tesseract_cmd = (\n",
        "    r'/usr/bin/tesseract'\n",
        ")\n",
        "\n",
        "from nltk.tokenize import  word_tokenize \n",
        "import nltk\n",
        "nltk.download('punkt')\n",
        "\n",
        "\n",
        "import gensim\n",
        "from gensim import corpora\n",
        "\n",
        "import argparse\n",
        "import logging\n",
        "import os\n",
        "import sys\n",
        "\n",
        "\n",
        "from tqdm import tqdm\n",
        "import random\n",
        "\n",
        "import time\n",
        "\n",
        "random.seed(1)\n",
        "np.random.seed(1)\n",
        "torch.manual_seed(1)"
      ]
    },
    {
      "cell_type": "code",
      "execution_count": null,
      "metadata": {
        "id": "yi_I8V29n1m3"
      },
      "outputs": [],
      "source": [
        "IMAGE_SIZE = 300\n",
        "# path to directory with receipts and xmls directories\n",
        "# data_path\n",
        "#   |_receipts\n",
        "#   |_xmls (Output of LabelImg software)\n",
        "data_path = \"/content/sample_data/invoices\""
      ]
    },
    {
      "cell_type": "code",
      "execution_count": null,
      "metadata": {
        "id": "P0J7IedzH_s2"
      },
      "outputs": [],
      "source": [
        "class ReceiptsDataset(torch.utils.data.Dataset):\n",
        "\n",
        "    def __init__(self, root, transforms=None):\n",
        "\n",
        "        self.root = root\n",
        "        self.transforms = transforms\n",
        "\n",
        "        self.imgs = sorted([path for path in os.listdir(os.path.join(root, \"receipts\")) if path.endswith(\".jpg\")])\n",
        "\n",
        "        #load bounding coordinates\n",
        "        self.xmls = sorted([path for path in os.listdir(os.path.join(root, \"xmls\")) if path.endswith(\".xml\")])\n",
        "\n",
        "        len_min = min(len(self.imgs), len(self.xmls))\n",
        "        self.imgs = self.imgs[:len_min]\n",
        "        self.xmls = self.xmls[:len_min]\n",
        "\n",
        "        self.dictionary = corpora.Dictionary([])\n",
        "\n",
        "\n",
        "    def __getitem__(self, idx):\n",
        "\n",
        "        \"\"\"\n",
        "        This function is the core component of dataset structure, as we read the \n",
        "        image build its corresponding mask and grid.\n",
        " \n",
        "        \"\"\"\n",
        "\n",
        "        # load images ad masks\n",
        "        img_path = os.path.join(os.path.join(self.root, \"/content/sample_data/invoices/receipts\"), self.imgs[idx])\n",
        "        xml_path = os.path.join(os.path.join(self.root, \"/content/sample_data/invoices/xmls\"), self.xmls[idx])\n",
        "\n",
        "        img = Image.open(img_path).convert(\"RGB\")\n",
        "        w,h = img.size\n",
        "\n",
        "        # 0: other, 1: total: boxes\n",
        "        boxes = get_boxes(xml_path)\n",
        "        grid, self.dictionary = get_grid(img, self.dictionary)\n",
        "        mask = get_mask(boxes, w, h)\n",
        "\n",
        "        mask = Image.fromarray(np.uint8(cm.gist_earth(mask)*255)).convert(\"L\")\n",
        "\n",
        "        grid = Image.fromarray(np.uint8(cm.gist_earth(grid)*255)).convert(\"L\")\n",
        "\n",
        "        if self.transforms is not None:\n",
        "            img, grid, mask = self.transforms(img, grid, mask)\n",
        "\n",
        "        mask = np.where(np.array(mask)>0,1,0)\n",
        "\n",
        "\n",
        "        img = torch.as_tensor(np.array(img), dtype=torch.float32)\n",
        "        mask = torch.as_tensor(mask, dtype=torch.long).unsqueeze(0)\n",
        "        grid = torch.as_tensor(np.array(grid), dtype=torch.long)\n",
        "\n",
        "        return img, grid, mask\n",
        "        \n",
        "\n",
        "\n",
        "    def __len__(self):\n",
        "        return len(self.imgs)"
      ]
    },
    {
      "cell_type": "code",
      "execution_count": null,
      "metadata": {
        "id": "XTzpe9BtIr7s"
      },
      "outputs": [],
      "source": [
        "class CUTIE(nn.Module):\n",
        "\n",
        "  def __init__(self):\n",
        "    super(CUTIE, self).__init__()\n",
        "    self.OUT_CHANNELS = 32\n",
        "    self.EMBEDDING_SIZE = EMBEDDING_SIZE\n",
        "    self.NB_CLASS = NB_CLASS\n",
        "\n",
        "\n",
        "    #grid\n",
        "    self.embedding_layer = nn.Embedding(VOCAB_SIZE, EMBEDDING_SIZE)\n",
        "    self.avgPool = nn.AdaptiveAvgPool2d((64,64))\n",
        "    self.avgPoolFinal = nn.AdaptiveAvgPool2d((IMAGE_SIZE,IMAGE_SIZE))\n",
        "\n",
        "\n",
        "    self.conv1_1 = nn.Conv2d(self.EMBEDDING_SIZE+self.OUT_CHANNELS,self.EMBEDDING_SIZE+self.OUT_CHANNELS, 1, 1 )\n",
        "    self.conv1_1_layer_2 = nn.Conv2d(4*self.OUT_CHANNELS,4*self.OUT_CHANNELS, 1, 1 )\n",
        "    self.conv_layer_3 = nn.Conv2d(5*self.OUT_CHANNELS,16, 3, 1, 1 )\n",
        "    self.conv1_1_layer_4 = nn.Conv2d(16, self.NB_CLASS, 1, 1 )\n",
        "\n",
        "\n",
        "\n",
        "\n",
        "    #image\n",
        "    self.conv_layer_1 = nn.Sequential(\n",
        "        nn.Conv2d(IN_CHANNELS,self.OUT_CHANNELS,3, stride=1),\n",
        "        nn.BatchNorm2d(self.OUT_CHANNELS),\n",
        "        nn.ReLU()\n",
        "    )\n",
        "\n",
        "    self.conv_block = nn.Sequential(\n",
        "          nn.Conv2d(self.OUT_CHANNELS,self.OUT_CHANNELS,3, stride=1),\n",
        "          nn.BatchNorm2d(self.OUT_CHANNELS),\n",
        "          \n",
        "          nn.ReLU(),\n",
        "          \n",
        "          nn.Conv2d(self.OUT_CHANNELS,self.OUT_CHANNELS,3, stride=1),\n",
        "          nn.BatchNorm2d(self.OUT_CHANNELS),\n",
        "          nn.ReLU(),\n",
        "          \n",
        "          nn.Conv2d(self.OUT_CHANNELS,self.OUT_CHANNELS,3, stride=2),\n",
        "          nn.BatchNorm2d(self.OUT_CHANNELS),\n",
        "          nn.ReLU()\n",
        "        )\n",
        "    \n",
        "    self.atrous_block = nn.Sequential(\n",
        "        nn.Conv2d(self.OUT_CHANNELS+self.EMBEDDING_SIZE, self.OUT_CHANNELS, 3, stride = 1, padding = 0, dilation=2),\n",
        "        nn.ReLU(),\n",
        "        \n",
        "        nn.Conv2d(self.OUT_CHANNELS, self.OUT_CHANNELS, 3, stride = 1, padding = 0, dilation=2),\n",
        "        nn.ReLU(),\n",
        "        \n",
        "        nn.Conv2d(self.OUT_CHANNELS, self.OUT_CHANNELS, 3, stride = 1, padding = 0, dilation=2),\n",
        "        nn.ReLU(),\n",
        "\n",
        "        nn.Conv2d(self.OUT_CHANNELS, self.OUT_CHANNELS, 3, stride = 1, padding = 0, dilation=2),\n",
        "        nn.BatchNorm2d(self.OUT_CHANNELS),\n",
        "        nn.ReLU()\n",
        "  \n",
        "    )\n",
        "\n",
        "\n",
        "    #aspp\n",
        "    self.aspp_layer_1 = nn.Conv2d(self.OUT_CHANNELS, self.OUT_CHANNELS, 7, stride=1, dilation=4)\n",
        "    self.aspp_layer_2 = nn.Conv2d(self.OUT_CHANNELS, self.OUT_CHANNELS, 5, padding=1, dilation=8)\n",
        "    self.aspp_layer_3 = nn.Conv2d(self.OUT_CHANNELS, self.OUT_CHANNELS, 3, padding=1, dilation=16)\n",
        "\n",
        "\n",
        "\n",
        "\n",
        "  def forward(self, images, grids):\n",
        "\n",
        "    # grid\n",
        "    embed = self.embedding_layer(grids)\n",
        "    embed_transpose = torch.transpose(embed, 2, 3)\n",
        "    embed_transpose = torch.transpose(embed_transpose, 1, 2)\n",
        "\n",
        "\n",
        "    #image\n",
        "    out_conv_layer_1 = self.conv_layer_1(images)\n",
        "\n",
        "    out_conv_block = self.conv_block(out_conv_layer_1)\n",
        "\n",
        "\n",
        "    embed_and_conv = torch.cat((self.avgPool(embed_transpose), self.avgPool(out_conv_block)), 1)\n",
        "\n",
        "    embed_and_conv = self.conv1_1(embed_and_conv)\n",
        "\n",
        "    out_atrous_block = self.atrous_block(embed_and_conv)\n",
        "\n",
        "    out_aspp_0 = self.avgPool(out_atrous_block)\n",
        "    out_aspp_1 = self.avgPool(self.aspp_layer_1(out_atrous_block))\n",
        "    out_aspp_2 = self.avgPool(self.aspp_layer_2(out_atrous_block))\n",
        "    out_aspp_3 = self.avgPool(self.aspp_layer_3(out_atrous_block))\n",
        "\n",
        "    aspp = torch.cat([out_aspp_0, out_aspp_1, out_aspp_2, out_aspp_3], dim=1)\n",
        "\n",
        "    aspp = self.avgPoolFinal(aspp)\n",
        "    aspp = self.conv1_1_layer_2(aspp)\n",
        "    first_layer = self.avgPoolFinal(out_conv_layer_1)\n",
        "    \n",
        "    aspp_and_first_layer = torch.cat([first_layer, aspp], dim=1)\n",
        "\n",
        "    aspp_and_first_layer = self.conv_layer_3(aspp_and_first_layer)\n",
        "    y_hat = self.conv1_1_layer_4(aspp_and_first_layer)\n",
        "\n",
        "    return y_hat\n",
        "\n",
        "\n",
        "\n",
        "\n",
        "def eval_net(net, evalloader):\n",
        "  \"\"\"\n",
        "  Function to evaluate the model on unseen data \n",
        "  net: Network CUTIE\n",
        "  evalloader: Dataloader containig data for validation\n",
        "  \"\"\"\n",
        "  \n",
        "  net.eval()\n",
        "  loss_eval = 0\n",
        "\n",
        "  for i, data in enumerate(evalloader, 0):\n",
        "    # get the inputs; data is a list of [inputs, labels]\n",
        "    images, grids, masks = data\n",
        "\n",
        "\n",
        "    with torch.no_grad():\n",
        "      # forward \n",
        "      outputs = net(images.to(device), grids.to(device))\n",
        "      loss = criterion(outputs.to(device), masks.squeeze(1))\n",
        "\n",
        "      loss_eval+=loss.item()\n",
        "    net.train()\n",
        "    return loss_eval/len(evalloader)\n",
        "  \n",
        "def apply_transformations(im, grid, mask):\n",
        "\n",
        "  img_trans = transforms.Compose([\n",
        "    transforms.Resize((IMAGE_SIZE, IMAGE_SIZE)),\n",
        "    transforms.ToTensor(),\n",
        "  ])\n",
        "\n",
        "  mask_trans = transforms.Compose([                                   \n",
        "    transforms.Resize((IMAGE_SIZE, IMAGE_SIZE)),\n",
        "    # transforms.ToTensor()\n",
        "            \n",
        "  ])\n",
        "  \n",
        "  grid_trans = transforms.Compose([                                   \n",
        "    transforms.Resize((IMAGE_SIZE, IMAGE_SIZE)),\n",
        "    # transforms.ToTensor()\n",
        "            \n",
        "  ])\n",
        "\n",
        "  return img_trans(im), grid_trans(grid), mask_trans(mask)\n",
        "\n",
        "def get_boxes(xml_path):\n",
        "    tree = ElementTree.parse(xml_path)\n",
        "    parsed = tree.getroot()\n",
        "\n",
        "    boxes = []\n",
        "\n",
        "    for obj in parsed.findall(\"object\"):\n",
        "\n",
        "        xmin = int(obj.find(\"bndbox/xmin\").text)\n",
        "        ymin = int(obj.find(\"bndbox/ymin\").text)\n",
        "        xmax = int(obj.find(\"bndbox/xmax\").text)\n",
        "        ymax = int(obj.find(\"bndbox/ymax\").text)\n",
        "\n",
        "        boxes.append([xmin, ymin, xmax, ymax])\n",
        "    return boxes\n",
        "\n",
        "\n",
        "def get_mask(boxes, w, h):\n",
        "    \n",
        "    mask = np.zeros((h, w))\n",
        "    positive_label = 1\n",
        "\n",
        "    for xmin, ymin, xmax, ymax in boxes:\n",
        "        mask[ymin: ymax, xmin: xmax] = positive_label\n",
        "\n",
        "    return mask"
      ]
    },
    {
      "cell_type": "code",
      "execution_count": null,
      "metadata": {
        "colab": {
          "base_uri": "https://localhost:8080/"
        },
        "id": "Rd8_ZlacqYq5",
        "outputId": "49cc0121-433a-4c8f-8078-e0f4f23ca2fc"
      },
      "outputs": [
        {
          "output_type": "stream",
          "name": "stderr",
          "text": [
            "/usr/local/lib/python3.7/dist-packages/torch/utils/data/dataloader.py:481: UserWarning: This DataLoader will create 8 worker processes in total. Our suggested max number of worker in current system is 2, which is smaller than what this DataLoader is going to create. Please be aware that excessive worker creation might get DataLoader running slow or even freeze, lower the worker number to avoid potential slowness/freeze if necessary.\n",
            "  cpuset_checked))\n"
          ]
        }
      ],
      "source": [
        "device = 'cpu'\n",
        "\n",
        "EMBEDDING_SIZE = 32\n",
        "IN_CHANNELS = 3\n",
        "NB_CLASS = 2\n",
        "\n",
        "lr=0.001\n",
        "momentum=0.9\n",
        "batch_size = 4\n",
        "NB_EPOCH = 5\n",
        "\n",
        "val_percent = 0.1\n",
        "\n",
        "# Create the dataset \n",
        "dataset = ReceiptsDataset(root=data_path, transforms = apply_transformations)\n",
        "\n",
        "# Dataloader in order to iterate over the dataset (Batch)\n",
        "dataloader = DataLoader(dataset, batch_size=batch_size, shuffle=True, sampler=None,\n",
        "           batch_sampler=None, num_workers=0, collate_fn=None,\n",
        "           pin_memory=False, drop_last=False, timeout=0,\n",
        "           worker_init_fn=None,)\n",
        "\n",
        "# Vocab size for the embedding layer\n",
        "VOCAB_SIZE = len(dataset.dictionary.token2id)*255\n",
        "\n",
        "# Split data to (Train, Eval)\n",
        "n_val = int(len(dataset) * val_percent)\n",
        "n_train = len(dataset) - n_val\n",
        "train, val = random_split(dataset, [n_train, n_val])\n",
        "train_loader = DataLoader(train, batch_size=batch_size, shuffle=True, num_workers=8, pin_memory=True)\n",
        "val_loader = DataLoader(val, batch_size=batch_size, shuffle=False, num_workers=8, pin_memory=True, drop_last=True)\n",
        "\n",
        "\n",
        "train_loss_list = []\n",
        "eval_loss_list = []"
      ]
    },
    {
      "cell_type": "code",
      "execution_count": null,
      "metadata": {
        "id": "jjP_-JzKJ8RU"
      },
      "outputs": [],
      "source": [
        "def token2id(gensim_dictionary, token):\n",
        "  \"\"\"\n",
        "  Models input are numerical, thus we need to map words to integers\n",
        "  function which maps tokens to integers using gensim dictionary\n",
        "  \"\"\"\n",
        "  return gensim_dictionary.token2id[token]\n",
        "\n"
      ]
    },
    {
      "cell_type": "code",
      "execution_count": null,
      "metadata": {
        "id": "An2JEib-J4YF"
      },
      "outputs": [],
      "source": [
        "def get_grid(image, gensim_dictionary):\n",
        "  \n",
        "  # The number of pixels between two tokens (Horizontally)\n",
        "  STRIDE = 4\n",
        "\n",
        "  image = np.array(image)\n",
        "  img_h, img_w, _ = image.shape\n",
        "\n",
        "  grid = np.zeros((img_h, img_w))\n",
        "\n",
        "  custom_config = r'-l eng+it --psm 6'\n",
        "\n",
        "  gray = cv2.cvtColor(image, cv2.COLOR_BGR2GRAY)\n",
        "  thresh = cv2.threshold(gray, 0, 255, cv2.THRESH_BINARY + cv2.THRESH_OTSU)[1]\n",
        "\n",
        "  text = pytesseract.image_to_string(thresh, config=custom_config)\n",
        "\n",
        "\n",
        "  line_text_list = text.split(\"\\n\")\n",
        "  line_text_list_tokenized = [word_tokenize(line) for line in line_text_list]\n",
        "\n",
        "  gensim_dictionary.add_documents(line_text_list_tokenized)\n",
        "\n",
        "\n",
        "  nb_sentences = len(line_text_list_tokenized)\n",
        "  nb_token_per_line = [len(line) for line in line_text_list_tokenized]\n",
        "\n",
        " \n",
        "  bboxes_h = int((img_h - 2*nb_sentences) / nb_sentences)\n",
        "  bboxes_per_line_w = ((img_w - 2*np.array(nb_token_per_line))/np.array(nb_token_per_line)).astype(int)\n",
        "  # Building the grid\n",
        "  line_cursor = 0\n",
        "  for line_i in range(nb_sentences):\n",
        "    col_idx = 0\n",
        "\n",
        "    for token_i in line_text_list_tokenized[line_i]:\n",
        "    \n",
        "      grid[line_cursor:line_cursor+bboxes_h, col_idx:col_idx+bboxes_per_line_w[line_i]] = token2id(gensim_dictionary, token_i)\n",
        "      col_idx+=(bboxes_per_line_w[line_i]+STRIDE)\n",
        "    \n",
        "    line_cursor+=(bboxes_h+STRIDE)\n",
        "  \n",
        "  return grid, gensim_dictionary\n"
      ]
    },
    {
      "cell_type": "code",
      "execution_count": null,
      "metadata": {
        "id": "qbQgwAiwHh21"
      },
      "outputs": [],
      "source": [
        "%%capture\n",
        "start_time = time.time()\n",
        "# Building and training the model\n",
        "\n",
        "net = CUTIE()\n",
        "net.to(device)\n",
        "criterion = nn.CrossEntropyLoss()\n",
        "optimizer = optim.SGD(net.parameters(), lr=lr, momentum=momentum)\n",
        "\n",
        "for epoch in range(NB_EPOCH):  # loop over the dataset multiple times\n",
        "\n",
        "    # print(\"epoch: \", epoch)\n",
        "    running_loss = 0.0\n",
        "    for i, data in enumerate(train_loader, 0):\n",
        "        # get the inputs; data is a list of [inputs, labels]\n",
        "        images, grids, masks = data\n",
        "\n",
        "        # zero the parameter gradients\n",
        "        optimizer.zero_grad()\n",
        "\n",
        "        # forward + backward + optimize\n",
        "        outputs = net(images.to(device), grids.to(device))\n",
        "        loss = criterion(outputs.to(device), masks.squeeze(1))\n",
        "        loss.backward()\n",
        "        optimizer.step()\n",
        "\n",
        "        loss_eval = eval_net(net, val_loader)\n",
        "\n",
        "        # print(loss.item(), loss_eval)\n",
        "\n",
        "        train_loss_list.append(loss.item())\n",
        "        eval_loss_list.append(loss_eval)\n",
        "    epoch+=1\n",
        "    \n",
        "\n",
        "end_time = time.time()\n"
      ]
    },
    {
      "cell_type": "code",
      "execution_count": null,
      "metadata": {
        "id": "orSFnd7uHqG9",
        "colab": {
          "base_uri": "https://localhost:8080/"
        },
        "outputId": "864e6a8c-fa65-45ff-e9bf-bb8d014bdce2"
      },
      "outputs": [
        {
          "output_type": "stream",
          "name": "stdout",
          "text": [
            "Duration:  594.4108769893646\n"
          ]
        }
      ],
      "source": [
        "print(\"Duration: \", end_time-start_time)"
      ]
    },
    {
      "cell_type": "code",
      "execution_count": null,
      "metadata": {
        "colab": {
          "base_uri": "https://localhost:8080/",
          "height": 298
        },
        "id": "tskkypxFHyFA",
        "outputId": "c0dd3b34-07cc-4fc9-b7a8-be11016660ed"
      },
      "outputs": [
        {
          "output_type": "execute_result",
          "data": {
            "text/plain": [
              "Text(0.5, 1.0, 'Cross entropie loss evolution during train process')"
            ]
          },
          "metadata": {},
          "execution_count": 33
        },
        {
          "output_type": "display_data",
          "data": {
            "image/png": "[encoded data removed]",
            "text/plain": [
              "<Figure size 432x288 with 1 Axes>"
            ]
          },
          "metadata": {
            "needs_background": "light"
          }
        }
      ],
      "source": [
        "plt.plot(train_loss_list, label=\"train loss\")\n",
        "#plt.plot(eval_loss_list, label=\"val loss\")\n",
        "plt.legend()\n",
        "plt.title(\"Cross entropie loss evolution during train process\")"
      ]
    },
    {
      "cell_type": "code",
      "execution_count": null,
      "metadata": {
        "colab": {
          "base_uri": "https://localhost:8080/"
        },
        "id": "ORFCuUIFH0un",
        "outputId": "eb22ca9d-28bb-4aef-82b7-5d0ce06872a1"
      },
      "outputs": [
        {
          "output_type": "stream",
          "name": "stderr",
          "text": [
            "/usr/local/lib/python3.7/dist-packages/ipykernel_launcher.py:30: RuntimeWarning: divide by zero encountered in true_divide\n"
          ]
        }
      ],
      "source": [
        "receipt_sample = \"/content/sample_data/invoices/receipts/20210111_TNH_IUGU_NFS_412057-1.jpg\"\n",
        "net.eval()\n",
        "\n",
        "img = Image.open(receipt_sample).convert(\"RGB\")\n",
        "w,h = img.size\n",
        "grid, dictionary = get_grid(img, dataset.dictionary)\n",
        "\n",
        "grid = Image.fromarray(np.uint8(cm.gist_earth(grid)*255)).convert(\"L\")\n",
        "\n",
        "\n",
        "img_trans = transforms.Compose([\n",
        "    transforms.Resize((IMAGE_SIZE, IMAGE_SIZE)),\n",
        "    transforms.ToTensor(),\n",
        "  ])\n",
        "\n",
        "  \n",
        "grid_trans = transforms.Compose([                                   \n",
        "    transforms.Resize((IMAGE_SIZE, IMAGE_SIZE)),\n",
        "    # transforms.ToTensor()\n",
        "])\n",
        "img = img_trans(img)\n",
        "\n",
        "grid = grid_trans(grid)\n",
        "\n",
        "img = torch.as_tensor(np.array(img), dtype=torch.float32)\n",
        "grid = torch.as_tensor(np.array(grid), dtype=torch.long)\n",
        "\n",
        "img = img.unsqueeze(0)\n",
        "grid = grid.unsqueeze(0)"
      ]
    },
    {
      "cell_type": "code",
      "execution_count": null,
      "metadata": {
        "colab": {
          "base_uri": "https://localhost:8080/",
          "height": 334
        },
        "id": "LJz6wUZcH3FT",
        "outputId": "8b7e116b-5dac-40a9-8016-48d56be99329"
      },
      "outputs": [
        {
          "output_type": "stream",
          "name": "stdout",
          "text": [
            "(1, 300, 300)\n"
          ]
        },
        {
          "output_type": "display_data",
          "data": {
            "image/png": "[encoded data removed]",
            "text/plain": [
              "<PIL.Image.Image image mode=RGB size=300x300 at 0x7F0666276190>"
            ]
          },
          "metadata": {}
        }
      ],
      "source": [
        "with torch.no_grad():\n",
        "  mask_pred = net(img, grid)\n",
        "  mask_np = np.argmax(mask_pred.numpy(),1)\n",
        "  print(mask_np.shape)\n",
        "  mask_np = np.transpose(mask_np, (1,0,2))\n",
        "  mask_np = np.transpose(mask_np, (0,2,1))\n",
        "\n",
        "  cv2_imshow(mask_np)"
      ]
    },
    {
      "cell_type": "code",
      "source": [
        "!sudo apt install tesseract-ocr\n",
        "!pip install pytesseract"
      ],
      "metadata": {
        "id": "evFjD9vFJ8Ow"
      },
      "execution_count": null,
      "outputs": []
    },
    {
      "cell_type": "code",
      "source": [
        "import sys\n",
        "sys.path.insert(1, './drive/MyDrive/UBIAI_layoutlm')\n",
        "from layoutlm_preprocess import *\n",
        "image_path='./content/invoice_test.jpg'\n",
        "image, words, boxes, actual_boxes = preprocess(image_path)"
      ],
      "metadata": {
        "id": "XJKY9uDTJ-3N"
      },
      "execution_count": null,
      "outputs": []
    },
    {
      "cell_type": "code",
      "source": [
        "model_path='./drive/MyDrive/trained_layoutlm/layoutlm_UBIAI.pt'\n",
        "model=model_load(model_path,num_labels)\n",
        "word_level_predictions, final_boxes=convert_to_features(image, words, boxes, actual_boxes, model)"
      ],
      "metadata": {
        "id": "FRA0uOcfKCIv"
      },
      "execution_count": null,
      "outputs": []
    }
  ],
  "metadata": {
    "colab": {
      "name": "CUTIE_invoice.ipynb",
      "provenance": []
    },
    "kernelspec": {
      "display_name": "Python 3",
      "name": "python3"
    },
    "language_info": {
      "name": "python"
    }
  },
  "nbformat": 4,
  "nbformat_minor": 0
}